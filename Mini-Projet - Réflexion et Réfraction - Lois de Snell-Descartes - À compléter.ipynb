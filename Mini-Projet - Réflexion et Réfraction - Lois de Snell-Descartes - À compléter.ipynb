{
 "cells": [
  {
   "cell_type": "markdown",
   "metadata": {},
   "source": [
    "<div class=\"alert alert-block alert-warning\">\n",
    "\n",
    "<h1>Mini-Projet : Réflexion et Réfraction - Lois de Snell-Descartes</h1>\n",
    "\n",
    "<h2>\n",
    "* <font color='brown'>Exécuter</font> chaque bloc.<br>\n",
    "    <br>\n",
    "* À la place des $$$, <font color='brown'>saisir</font> le script adapte.\n",
    "\n",
    "</h2>\n",
    "\n",
    "</div>"
   ]
  },
  {
   "cell_type": "code",
   "execution_count": null,
   "metadata": {},
   "outputs": [],
   "source": [
    "\"\"\"\n",
    "Illustration des lois de Snell-Descartes\n",
    "Sarah Roques - Académie de Lyon - MAJ 03/08/2023\n",
    "\n",
    "Sources :\n",
    "\tStyle de lignes : https://matplotlib.org/stable/gallery/lines_bars_and_markers/linestyles.html\n",
    "\tEmplacement de la légende : \n",
    "\thttps://www.freecodecamp.org/news/how-to-change-legend-fontsize-in-matplotlib/ \n",
    "\thttps://stacklima.com/matplotlib-pyplot-legend-en-python/\n",
    "\"\"\"\n",
    "\n",
    "import matplotlib.pyplot as plt #importation de la bibliothèque pour les tracés et affichages des graphiques\n",
    "from numpy import * #important de la bibliothèque pour les calculs (notamment trigonométriques) et usage de pi\n"
   ]
  },
  {
   "cell_type": "code",
   "execution_count": null,
   "metadata": {},
   "outputs": [],
   "source": [
    "# Déclarations des paramètres\n",
    "i = 20 # angle en degré compris entre -90 et +90°\n",
    "ni = 1.0 # indice milieu incident\n",
    "nr = 1.5 # indice milieu de réfraction\n",
    "l = 2 # longueur du rayon de lumière\n"
   ]
  },
  {
   "cell_type": "code",
   "execution_count": null,
   "metadata": {},
   "outputs": [],
   "source": [
    "#Conversions d’unité d’angles\n",
    "i = $$$ # conversion de l'angle d'incidence en radians\n",
    "r = $$$ # calcul de l'angle de réfraction en radians\n"
   ]
  },
  {
   "cell_type": "code",
   "execution_count": null,
   "metadata": {},
   "outputs": [],
   "source": [
    "#Abscisses et ordonnés de l’origine et de l’extrémité des rayons\n",
    "xi = -l*sin(i) # abscisse de l'origine du rayon lumineux incident\n",
    "yi = l*cos(i) # ordonnée de l'origine du rayon lumineux incident\n",
    "xrf = -xi # abscisse de l'extrémité du rayon lumineux réfléchi\n",
    "yrf = yi # ordonnée de l'extrémité du rayon lumineux réfléchi\n"
   ]
  },
  {
   "cell_type": "code",
   "execution_count": null,
   "metadata": {},
   "outputs": [],
   "source": [
    "\"\"\"Rédiger un script permettant de calculer \n",
    "l'abscisse notée xr de l'extrémité du rayon réfracté de longueur l\n",
    "son ordonnée notée yr. \n",
    "Pour cela, remplacer les $$$ par autant de lignes de script que nécessaires\"\"\"\n",
    "\n",
    "$$$\n"
   ]
  },
  {
   "cell_type": "code",
   "execution_count": null,
   "metadata": {},
   "outputs": [],
   "source": [
    "# Angles en degrés :\n",
    "i = $$$ #conversion de l'angle d'incidence en degrés\n",
    "r = $$$ #conversion de l'angle de réfracrtion en degrés\n",
    "rfl = $$$ \t\t\t#angle de réflexion en degrés\n"
   ]
  },
  {
   "cell_type": "code",
   "execution_count": null,
   "metadata": {},
   "outputs": [],
   "source": [
    "# Affichage du tracé des rayons\n",
    "plt.plot([-2,2],[0,0],linewidth=2,c='k') # surface de séparation\n",
    "plt.plot([0,0],[-1,1],linewidth=0.5, linestyle='dashed',c='grey') # normale origine (0,-1) extrémité (0,1)\n",
    "plt.plot([xi,0],[yi,0],linewidth=1,c='$$$', label=f'Rayon incident avec i = {i:.2f} °') # rayons lumineux incident \"rouge\" trait plein\n",
    "plt.plot([0,xr],[0,yr],linewidth=1,linestyle='$$$', c='blue', label=f'Rayon réfracté avec r = {r:.2f} °') # rayons lumineux réfracté \"bleu\" tirets\n",
    "plt.plot([0,xrf],[0,yrf],linewidth=1,linestyle='dotted', c='green', label=f'Rayon réfléchi avec i\\' = {rfl:.2f} °') # rayons lumineux réfléchi \"vert\" pointillés\n"
   ]
  },
  {
   "cell_type": "code",
   "execution_count": null,
   "metadata": {},
   "outputs": [],
   "source": [
    "# Ajout du texte pour les valeurs de ni et nr\n",
    "plt.text(1.4, 0.5, f'n_i = {ni:.2f}', fontsize=8)\n",
    "plt.text(1.4, -0.5, f'n_r = {nr:.2f}', fontsize=8)\n",
    "\n",
    "plt.title('Réflexion et Réfraction - Snell-Descartes',fontsize = 12,color = \"orange\")\n",
    "plt.axis('equal') # configuration d'un repère orthonormé\n",
    "\n",
    "plt.legend(loc='lower left') # Affichage de la légende (\"label\")\n",
    "plt.show() # affichage de la figure"
   ]
  }
 ],
 "metadata": {
  "kernelspec": {
   "display_name": "Python 3 (ipykernel)",
   "language": "python",
   "name": "python3"
  },
  "language_info": {
   "codemirror_mode": {
    "name": "ipython",
    "version": 3
   },
   "file_extension": ".py",
   "mimetype": "text/x-python",
   "name": "python",
   "nbconvert_exporter": "python",
   "pygments_lexer": "ipython3",
   "version": "3.11.0"
  }
 },
 "nbformat": 4,
 "nbformat_minor": 2
}
